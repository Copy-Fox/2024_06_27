{
 "cells": [
  {
   "cell_type": "code",
   "execution_count": 1,
   "metadata": {},
   "outputs": [
    {
     "name": "stdout",
     "output_type": "stream",
     "text": [
      "0.7142857142857143\n",
      "              precision    recall  f1-score   support\n",
      "\n",
      "           0       0.82      0.72      0.77       151\n",
      "           1       0.57      0.70      0.63        80\n",
      "\n",
      "    accuracy                           0.71       231\n",
      "   macro avg       0.70      0.71      0.70       231\n",
      "weighted avg       0.73      0.71      0.72       231\n",
      "\n"
     ]
    }
   ],
   "source": [
    "import pandas as pd\n",
    "from sklearn.preprocessing import StandardScaler\n",
    "from sklearn.model_selection import train_test_split\n",
    "from sklearn.tree import DecisionTreeClassifier\n",
    "from sklearn.metrics import classification_report\n",
    "\n",
    "data = pd.read_csv('diabetes.csv')\n",
    "\n",
    "data.fillna(data.mean(),inplace=True)\n",
    "scaler = StandardScaler()\n",
    "X = data.drop('Outcome',axis=1)\n",
    "Y = data['Outcome']\n",
    "\n",
    "X[X.columns] = scaler.fit_transform(X[X.columns])\n",
    "\n",
    "X_train,X_test,Y_train,Y_test = train_test_split(X,Y,test_size=0.3,random_state=42)\n",
    "\n",
    "model = DecisionTreeClassifier()\n",
    "model.fit(X_train,Y_train)\n",
    "test_score = model.score(X_test, Y_test)\n",
    "print(test_score)\n",
    "\n",
    "Y_pred = model.predict(X_test)\n",
    "\n",
    "class_report = classification_report(Y_test,Y_pred)\n",
    "\n",
    "print(class_report)\n"
   ]
  }
 ],
 "metadata": {
  "kernelspec": {
   "display_name": "base",
   "language": "python",
   "name": "python3"
  },
  "language_info": {
   "codemirror_mode": {
    "name": "ipython",
    "version": 3
   },
   "file_extension": ".py",
   "mimetype": "text/x-python",
   "name": "python",
   "nbconvert_exporter": "python",
   "pygments_lexer": "ipython3",
   "version": "3.11.7"
  }
 },
 "nbformat": 4,
 "nbformat_minor": 2
}
