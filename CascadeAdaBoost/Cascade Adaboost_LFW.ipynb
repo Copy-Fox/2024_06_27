{
 "cells": [
  {
   "cell_type": "markdown",
   "metadata": {},
   "source": [
    "잘 안됨"
   ]
  },
  {
   "cell_type": "code",
   "execution_count": 2,
   "metadata": {},
   "outputs": [
    {
     "name": "stderr",
     "output_type": "stream",
     "text": [
      "c:\\Users\\HKIT\\anaconda3\\Lib\\site-packages\\sklearn\\ensemble\\_base.py:166: FutureWarning: `base_estimator` was renamed to `estimator` in version 1.2 and will be removed in 1.4.\n",
      "  warnings.warn(\n",
      "c:\\Users\\HKIT\\anaconda3\\Lib\\site-packages\\sklearn\\ensemble\\_base.py:166: FutureWarning: `base_estimator` was renamed to `estimator` in version 1.2 and will be removed in 1.4.\n",
      "  warnings.warn(\n",
      "c:\\Users\\HKIT\\anaconda3\\Lib\\site-packages\\sklearn\\ensemble\\_base.py:166: FutureWarning: `base_estimator` was renamed to `estimator` in version 1.2 and will be removed in 1.4.\n",
      "  warnings.warn(\n"
     ]
    },
    {
     "name": "stdout",
     "output_type": "stream",
     "text": [
      "Accuracy: 0.01\n"
     ]
    }
   ],
   "source": [
    "import numpy as np\n",
    "import matplotlib.pyplot as plt\n",
    "from sklearn.datasets import fetch_lfw_people\n",
    "from sklearn.ensemble import AdaBoostClassifier\n",
    "from sklearn.tree import DecisionTreeClassifier\n",
    "from sklearn.metrics import accuracy_score\n",
    "from sklearn.model_selection import train_test_split\n",
    "\n",
    "# 노이즈 추가 함수\n",
    "def add_noise(images, noise_factor=0.5):\n",
    "    noisy_images = images + noise_factor * np.random.normal(loc=0.0, scale=1.0, size=images.shape)\n",
    "    noisy_images = np.clip(noisy_images, 0, 255)\n",
    "    return noisy_images\n",
    "\n",
    "# LFW 데이터 로드\n",
    "lfw_people = fetch_lfw_people(min_faces_per_person=30, resize=0.4)\n",
    "X = lfw_people.data\n",
    "y = lfw_people.target\n",
    "target_names = lfw_people.target_names\n",
    "\n",
    "# 데이터 분할\n",
    "X_train, X_test, y_train, y_test = train_test_split(X, y, test_size=0.3, random_state=0)\n",
    "\n",
    "# 노이즈 추가\n",
    "X_train = add_noise(X_train, noise_factor=0.3)\n",
    "X_test = add_noise(X_test, noise_factor=0.3)\n",
    "\n",
    "# Cascade AdaBoost 설정\n",
    "n_cascades = 3  # 캐스케이드의 단계 수\n",
    "final_predictions = np.zeros(len(X_test))\n",
    "\n",
    "for n in range(n_cascades):\n",
    "    estimator = DecisionTreeClassifier(max_depth=3)  # 복잡도를 증가\n",
    "    adaboost = AdaBoostClassifier(base_estimator=estimator, n_estimators=50, random_state=0)\n",
    "    adaboost.fit(X_train, y_train)\n",
    "\n",
    "    # 각 단계의 모델로부터 예측\n",
    "    predictions = adaboost.predict(X_test)\n",
    "\n",
    "    # 각 예측이 참(T)인지 거짓(F)인지 판단하여 최종 예측 조정\n",
    "    for i in range(len(predictions)):\n",
    "        if predictions[i] == 1:\n",
    "            final_predictions[i] = 1  # 하나라도 True로 예측되면 최종적으로 True로 설정\n",
    "\n",
    "# 최종 예측의 정확도 계산\n",
    "accuracy = accuracy_score(y_test, final_predictions)\n",
    "print(f'Accuracy: {accuracy:.2f}')\n",
    "\n",
    "\n"
   ]
  }
 ],
 "metadata": {
  "kernelspec": {
   "display_name": "base",
   "language": "python",
   "name": "python3"
  },
  "language_info": {
   "codemirror_mode": {
    "name": "ipython",
    "version": 3
   },
   "file_extension": ".py",
   "mimetype": "text/x-python",
   "name": "python",
   "nbconvert_exporter": "python",
   "pygments_lexer": "ipython3",
   "version": "3.11.7"
  }
 },
 "nbformat": 4,
 "nbformat_minor": 2
}
